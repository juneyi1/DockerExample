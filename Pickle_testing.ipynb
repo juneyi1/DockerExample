{
 "cells": [
  {
   "cell_type": "code",
   "execution_count": 24,
   "metadata": {
    "collapsed": true
   },
   "outputs": [],
   "source": [
    "import pandas as pd\n",
    "import numpy as np\n",
    "import os\n",
    "import pickle\n",
    "\n",
    "from string import digits, punctuation\n",
    "import re\n",
    "import spacy\n",
    "\n",
    "import xml.etree.ElementTree as ET\n",
    "\n",
    "from nltk.corpus import stopwords \n",
    "from nltk.corpus import wordnet \n",
    "from nltk import wordpunct_tokenize\n",
    "from nltk import WordNetLemmatizer\n",
    "from nltk import sent_tokenize, word_tokenize\n",
    "from nltk import pos_tag\n",
    "from nltk.stem import PorterStemmer\n",
    "\n",
    "from sklearn.model_selection import train_test_split, GridSearchCV, StratifiedKFold\n",
    "from sklearn.feature_extraction.text import ENGLISH_STOP_WORDS, TfidfVectorizer\n",
    "from sklearn.preprocessing import StandardScaler, FunctionTransformer\n",
    "from sklearn.decomposition import PCA, TruncatedSVD\n",
    "from sklearn.pipeline import Pipeline, make_pipeline, FeatureUnion\n",
    "from sklearn.multiclass import OneVsRestClassifier\n",
    "from sklearn.neural_network import MLPClassifier\n",
    "from sklearn.linear_model import LogisticRegression, SGDClassifier\n",
    "from sklearn.svm import SVC\n",
    "from sklearn.naive_bayes import BernoulliNB, MultinomialNB, GaussianNB\n",
    "from sklearn.metrics import f1_score, accuracy_score, confusion_matrix, classification_report\n",
    "\n",
    "import matplotlib.pyplot as plt\n",
    "%matplotlib inline"
   ]
  },
  {
   "cell_type": "code",
   "execution_count": 25,
   "metadata": {
    "collapsed": true
   },
   "outputs": [],
   "source": [
    "# Write tokenizer as a class\n",
    "class Tokenization(object):\n",
    "    \"\"\"tokenize each word and for each tocken:\n",
    "    1. excludes digits and punctuations, \n",
    "    2. excludes token that has '-year', \n",
    "    3. excludes stop words,\n",
    "    4. makes the token stemmed,\n",
    "    and return a string with all tokens separated by a space\"\"\"\n",
    "    from string import digits, punctuation\n",
    "    import spacy\n",
    "    from nltk.tokenize import word_tokenize\n",
    "    #import en_core_web_sm\n",
    "    import dill\n",
    "    from sklearn.feature_extraction.text import ENGLISH_STOP_WORDS\n",
    "    from nltk.stem import PorterStemmer\n",
    "\n",
    "    def __init__(self, #nlp=word_tokenize()#spacy.load('en_core_web_sm'), \n",
    "                 stop=list(ENGLISH_STOP_WORDS)+['year', 'month', 'old'], \n",
    "                 stemmer=PorterStemmer()):\n",
    "        #self.nlp = nlp\n",
    "        self.stop = stop\n",
    "        self.stemmer = stemmer\n",
    "\n",
    "    def fit(self, x, y=None):\n",
    "        return self\n",
    "        \n",
    "    def transform(self, x):\n",
    "        def words2tokens(sentence, stop=self.stop, stemmer=self.stemmer):\n",
    "            l = []    \n",
    "            tokens = word_tokenize(sentence)\n",
    "            for token in tokens:                \n",
    "                t = token.lower()\n",
    "                if (t in punctuation) or t.isdigit():\n",
    "                    continue\n",
    "                if ('-year' in t) or ('-month' in t) or ('-day' in t):\n",
    "                    continue\n",
    "                if ('/' in t) or ('=' in t) or (t in stop):\n",
    "                    continue\n",
    "                l.append(stemmer.stem(t))\n",
    "            return ' '.join(l)\n",
    "\n",
    "        series = x.apply(lambda s: words2tokens(s, stop=self.stop, stemmer=self.stemmer))    \n",
    "        return series"
   ]
  },
  {
   "cell_type": "code",
   "execution_count": 26,
   "metadata": {
    "collapsed": true
   },
   "outputs": [],
   "source": [
    "# Write matrix converter as a class\n",
    "class MatrixConverter(object):\n",
    "    \"\"\"Converter a tfidf matrix to a df\"\"\"\n",
    "    def __init__(self):\n",
    "        pass\n",
    "    def fit(self, x, y=None):\n",
    "        return self    \n",
    "    def transform(self, x):\n",
    "        return pd.DataFrame(x.todense())"
   ]
  },
  {
   "cell_type": "code",
   "execution_count": 46,
   "metadata": {},
   "outputs": [],
   "source": [
    "X_test = pd.read_csv('X_test.csv', header=None, squeeze=True)\n",
    "#X_test = X_test.iloc[:,0]\n",
    "Y_test = pd.read_csv('Y_test.csv')"
   ]
  },
  {
   "cell_type": "code",
   "execution_count": 47,
   "metadata": {},
   "outputs": [
    {
     "data": {
      "text/plain": [
       "0    Urinary tract infection in a 2-year, 8-month -...\n",
       "1    Hydronephrosis. Followup. Interval growth in b...\n",
       "2              Recurrent UTI. Normal renal ultrasound.\n",
       "3    3-year - old girl with urinary tract infection...\n",
       "4    Cough for one week. Lungs clear and heart normal.\n",
       "Name: 0, dtype: object"
      ]
     },
     "execution_count": 47,
     "metadata": {},
     "output_type": "execute_result"
    }
   ],
   "source": [
    "X_test.head()"
   ]
  },
  {
   "cell_type": "code",
   "execution_count": 48,
   "metadata": {},
   "outputs": [
    {
     "data": {
      "text/html": [
       "<div>\n",
       "<style>\n",
       "    .dataframe thead tr:only-child th {\n",
       "        text-align: right;\n",
       "    }\n",
       "\n",
       "    .dataframe thead th {\n",
       "        text-align: left;\n",
       "    }\n",
       "\n",
       "    .dataframe tbody tr th {\n",
       "        vertical-align: top;\n",
       "    }\n",
       "</style>\n",
       "<table border=\"1\" class=\"dataframe\">\n",
       "  <thead>\n",
       "    <tr style=\"text-align: right;\">\n",
       "      <th></th>\n",
       "      <th>ICD9_785.6</th>\n",
       "      <th>ICD9_599.0</th>\n",
       "      <th>ICD9_789.00</th>\n",
       "      <th>ICD9_V67.09</th>\n",
       "      <th>ICD9_462</th>\n",
       "      <th>ICD9_786.50</th>\n",
       "      <th>ICD9_593.5</th>\n",
       "      <th>ICD9_V13.09</th>\n",
       "      <th>ICD9_788.41</th>\n",
       "      <th>ICD9_787.03</th>\n",
       "      <th>...</th>\n",
       "      <th>ICD9_596.54</th>\n",
       "      <th>ICD9_753.21</th>\n",
       "      <th>ICD9_789.09</th>\n",
       "      <th>ICD9_786.59</th>\n",
       "      <th>ICD9_795.5</th>\n",
       "      <th>ICD9_783.0</th>\n",
       "      <th>ICD9_753.3</th>\n",
       "      <th>ICD9_596.8</th>\n",
       "      <th>ICD9_486</th>\n",
       "      <th>ICD9_780.6</th>\n",
       "    </tr>\n",
       "  </thead>\n",
       "  <tbody>\n",
       "    <tr>\n",
       "      <th>0</th>\n",
       "      <td>0</td>\n",
       "      <td>1</td>\n",
       "      <td>0</td>\n",
       "      <td>0</td>\n",
       "      <td>0</td>\n",
       "      <td>0</td>\n",
       "      <td>0</td>\n",
       "      <td>0</td>\n",
       "      <td>0</td>\n",
       "      <td>0</td>\n",
       "      <td>...</td>\n",
       "      <td>0</td>\n",
       "      <td>0</td>\n",
       "      <td>0</td>\n",
       "      <td>0</td>\n",
       "      <td>0</td>\n",
       "      <td>0</td>\n",
       "      <td>0</td>\n",
       "      <td>0</td>\n",
       "      <td>0</td>\n",
       "      <td>0</td>\n",
       "    </tr>\n",
       "    <tr>\n",
       "      <th>1</th>\n",
       "      <td>0</td>\n",
       "      <td>0</td>\n",
       "      <td>0</td>\n",
       "      <td>0</td>\n",
       "      <td>0</td>\n",
       "      <td>0</td>\n",
       "      <td>0</td>\n",
       "      <td>0</td>\n",
       "      <td>0</td>\n",
       "      <td>0</td>\n",
       "      <td>...</td>\n",
       "      <td>0</td>\n",
       "      <td>0</td>\n",
       "      <td>0</td>\n",
       "      <td>0</td>\n",
       "      <td>0</td>\n",
       "      <td>0</td>\n",
       "      <td>0</td>\n",
       "      <td>0</td>\n",
       "      <td>0</td>\n",
       "      <td>0</td>\n",
       "    </tr>\n",
       "    <tr>\n",
       "      <th>2</th>\n",
       "      <td>0</td>\n",
       "      <td>1</td>\n",
       "      <td>0</td>\n",
       "      <td>0</td>\n",
       "      <td>0</td>\n",
       "      <td>0</td>\n",
       "      <td>0</td>\n",
       "      <td>0</td>\n",
       "      <td>0</td>\n",
       "      <td>0</td>\n",
       "      <td>...</td>\n",
       "      <td>0</td>\n",
       "      <td>0</td>\n",
       "      <td>0</td>\n",
       "      <td>0</td>\n",
       "      <td>0</td>\n",
       "      <td>0</td>\n",
       "      <td>0</td>\n",
       "      <td>0</td>\n",
       "      <td>0</td>\n",
       "      <td>0</td>\n",
       "    </tr>\n",
       "    <tr>\n",
       "      <th>3</th>\n",
       "      <td>0</td>\n",
       "      <td>1</td>\n",
       "      <td>0</td>\n",
       "      <td>0</td>\n",
       "      <td>0</td>\n",
       "      <td>0</td>\n",
       "      <td>0</td>\n",
       "      <td>0</td>\n",
       "      <td>0</td>\n",
       "      <td>0</td>\n",
       "      <td>...</td>\n",
       "      <td>0</td>\n",
       "      <td>0</td>\n",
       "      <td>0</td>\n",
       "      <td>0</td>\n",
       "      <td>0</td>\n",
       "      <td>0</td>\n",
       "      <td>0</td>\n",
       "      <td>0</td>\n",
       "      <td>0</td>\n",
       "      <td>0</td>\n",
       "    </tr>\n",
       "    <tr>\n",
       "      <th>4</th>\n",
       "      <td>0</td>\n",
       "      <td>0</td>\n",
       "      <td>0</td>\n",
       "      <td>0</td>\n",
       "      <td>0</td>\n",
       "      <td>0</td>\n",
       "      <td>0</td>\n",
       "      <td>0</td>\n",
       "      <td>0</td>\n",
       "      <td>0</td>\n",
       "      <td>...</td>\n",
       "      <td>0</td>\n",
       "      <td>0</td>\n",
       "      <td>0</td>\n",
       "      <td>0</td>\n",
       "      <td>0</td>\n",
       "      <td>0</td>\n",
       "      <td>0</td>\n",
       "      <td>0</td>\n",
       "      <td>0</td>\n",
       "      <td>0</td>\n",
       "    </tr>\n",
       "  </tbody>\n",
       "</table>\n",
       "<p>5 rows × 45 columns</p>\n",
       "</div>"
      ],
      "text/plain": [
       "   ICD9_785.6  ICD9_599.0  ICD9_789.00  ICD9_V67.09  ICD9_462  ICD9_786.50  \\\n",
       "0           0           1            0            0         0            0   \n",
       "1           0           0            0            0         0            0   \n",
       "2           0           1            0            0         0            0   \n",
       "3           0           1            0            0         0            0   \n",
       "4           0           0            0            0         0            0   \n",
       "\n",
       "   ICD9_593.5  ICD9_V13.09  ICD9_788.41  ICD9_787.03     ...      ICD9_596.54  \\\n",
       "0           0            0            0            0     ...                0   \n",
       "1           0            0            0            0     ...                0   \n",
       "2           0            0            0            0     ...                0   \n",
       "3           0            0            0            0     ...                0   \n",
       "4           0            0            0            0     ...                0   \n",
       "\n",
       "   ICD9_753.21  ICD9_789.09  ICD9_786.59  ICD9_795.5  ICD9_783.0  ICD9_753.3  \\\n",
       "0            0            0            0           0           0           0   \n",
       "1            0            0            0           0           0           0   \n",
       "2            0            0            0           0           0           0   \n",
       "3            0            0            0           0           0           0   \n",
       "4            0            0            0           0           0           0   \n",
       "\n",
       "   ICD9_596.8  ICD9_486  ICD9_780.6  \n",
       "0           0         0           0  \n",
       "1           0         0           0  \n",
       "2           0         0           0  \n",
       "3           0         0           0  \n",
       "4           0         0           0  \n",
       "\n",
       "[5 rows x 45 columns]"
      ]
     },
     "execution_count": 48,
     "metadata": {},
     "output_type": "execute_result"
    }
   ],
   "source": [
    "Y_test.head()"
   ]
  },
  {
   "cell_type": "code",
   "execution_count": 49,
   "metadata": {
    "scrolled": true
   },
   "outputs": [
    {
     "name": "stdout",
     "output_type": "stream",
     "text": [
      "test micro f1 score: 0.732177263969\n",
      "test classification report:\n",
      "             precision    recall  f1-score   support\n",
      "\n",
      "          0       0.00      0.00      0.00         0\n",
      "          1       0.48      0.82      0.61        17\n",
      "          2       0.00      0.00      0.00         1\n",
      "          3       0.00      0.00      0.00         0\n",
      "          4       0.00      0.00      0.00         1\n",
      "          5       0.86      0.86      0.86         7\n",
      "          6       0.00      0.00      0.00         3\n",
      "          7       0.00      0.00      0.00         1\n",
      "          8       0.00      0.00      0.00         0\n",
      "          9       0.00      0.00      0.00         2\n",
      "         10       0.00      0.00      0.00         3\n",
      "         11       0.00      0.00      0.00         0\n",
      "         12       0.78      0.78      0.78         9\n",
      "         13       0.00      0.00      0.00         0\n",
      "         14       1.00      1.00      1.00         1\n",
      "         15       0.86      0.86      0.86         7\n",
      "         16       0.00      0.00      0.00         0\n",
      "         17       0.00      0.00      0.00         0\n",
      "         18       0.90      0.83      0.86        23\n",
      "         19       0.00      0.00      0.00         4\n",
      "         20       0.00      0.00      0.00         0\n",
      "         21       0.00      0.00      0.00         1\n",
      "         22       0.00      0.00      0.00         0\n",
      "         23       0.00      0.00      0.00         1\n",
      "         24       0.87      0.89      0.88        54\n",
      "         25       0.00      0.00      0.00         2\n",
      "         26       0.00      0.00      0.00         0\n",
      "         27       0.87      0.90      0.88        29\n",
      "         28       0.00      0.00      0.00         7\n",
      "         29       0.78      0.88      0.82         8\n",
      "         30       0.00      0.00      0.00         0\n",
      "         31       0.00      0.00      0.00         0\n",
      "         32       0.75      0.38      0.50         8\n",
      "         33       0.00      0.00      0.00         0\n",
      "         34       0.45      0.62      0.53         8\n",
      "         35       0.64      1.00      0.78         9\n",
      "         36       0.00      0.00      0.00         1\n",
      "         37       0.00      0.00      0.00         1\n",
      "         38       0.00      0.00      0.00         0\n",
      "         39       1.00      0.67      0.80         3\n",
      "         40       0.00      0.00      0.00         0\n",
      "         41       0.00      0.00      0.00         2\n",
      "         42       0.00      0.00      0.00         0\n",
      "         43       0.62      0.77      0.69        13\n",
      "         44       0.54      0.96      0.69        28\n",
      "\n",
      "avg / total       0.67      0.75      0.69       254\n",
      "\n"
     ]
    },
    {
     "name": "stderr",
     "output_type": "stream",
     "text": [
      "/Users/cysung/anaconda3/lib/python3.6/site-packages/sklearn/metrics/classification.py:1135: UndefinedMetricWarning: Precision and F-score are ill-defined and being set to 0.0 in labels with no predicted samples.\n",
      "  'precision', 'predicted', average, warn_for)\n",
      "/Users/cysung/anaconda3/lib/python3.6/site-packages/sklearn/metrics/classification.py:1137: UndefinedMetricWarning: Recall and F-score are ill-defined and being set to 0.0 in labels with no true samples.\n",
      "  'recall', 'true', average, warn_for)\n"
     ]
    }
   ],
   "source": [
    "model = pickle.load(open(\"model_pipe.pkl\", \"rb\"))\n",
    "predict_test = model.predict(X_test)\n",
    "classification = classification_report(Y_test, predict_test)\n",
    "\n",
    "print('test micro f1 score:', f1_score(Y_test, predict_test, average='micro'))\n",
    "print('test classification report:')\n",
    "print(classification)"
   ]
  },
  {
   "cell_type": "code",
   "execution_count": 51,
   "metadata": {},
   "outputs": [
    {
     "data": {
      "text/plain": [
       "0    Urinary tract infection in a 2-year, 8-month -...\n",
       "dtype: object"
      ]
     },
     "execution_count": 51,
     "metadata": {},
     "output_type": "execute_result"
    }
   ],
   "source": [
    "sample = pd.Series(X_test[0])\n",
    "sample"
   ]
  },
  {
   "cell_type": "code",
   "execution_count": 53,
   "metadata": {
    "scrolled": true
   },
   "outputs": [
    {
     "data": {
      "text/plain": [
       "['785.6',\n",
       " '599.0',\n",
       " '789.00',\n",
       " 'V67.09',\n",
       " '462',\n",
       " '786.50',\n",
       " '593.5',\n",
       " 'V13.09',\n",
       " '788.41',\n",
       " '787.03',\n",
       " '277.00',\n",
       " '511.9',\n",
       " '786.07',\n",
       " '753.0',\n",
       " '518.0',\n",
       " '788.30',\n",
       " '791.0',\n",
       " '593.1',\n",
       " '591',\n",
       " '759.89',\n",
       " '758.6',\n",
       " '592.0',\n",
       " '786.05',\n",
       " '279.12',\n",
       " '786.2',\n",
       " '741.90',\n",
       " '786.09',\n",
       " '593.70',\n",
       " 'V13.02',\n",
       " '599.7',\n",
       " 'V42.0',\n",
       " '079.99',\n",
       " '493.90',\n",
       " 'V72.5',\n",
       " '593.89',\n",
       " '596.54',\n",
       " '753.21',\n",
       " '789.09',\n",
       " '786.59',\n",
       " '795.5',\n",
       " '783.0',\n",
       " '753.3',\n",
       " '596.8',\n",
       " '486',\n",
       " '780.6']"
      ]
     },
     "execution_count": 53,
     "metadata": {},
     "output_type": "execute_result"
    }
   ],
   "source": [
    "icd_codes = pickle.load(open(\"icd_codes.pkl\", \"rb\"))\n",
    "icd_codes\n",
    "#model.predict(sample)"
   ]
  },
  {
   "cell_type": "code",
   "execution_count": 61,
   "metadata": {},
   "outputs": [
    {
     "data": {
      "text/plain": [
       "[['599.0']]"
      ]
     },
     "execution_count": 61,
     "metadata": {},
     "output_type": "execute_result"
    }
   ],
   "source": [
    "results = model.predict(sample)\n",
    "[[icd_codes[i] for i, r in enumerate(result) if r == 1] for result in results]"
   ]
  },
  {
   "cell_type": "code",
   "execution_count": null,
   "metadata": {
    "collapsed": true
   },
   "outputs": [],
   "source": []
  }
 ],
 "metadata": {
  "kernelspec": {
   "display_name": "Python 3",
   "language": "python",
   "name": "python3"
  },
  "language_info": {
   "codemirror_mode": {
    "name": "ipython",
    "version": 3
   },
   "file_extension": ".py",
   "mimetype": "text/x-python",
   "name": "python",
   "nbconvert_exporter": "python",
   "pygments_lexer": "ipython3",
   "version": "3.6.1"
  }
 },
 "nbformat": 4,
 "nbformat_minor": 2
}
